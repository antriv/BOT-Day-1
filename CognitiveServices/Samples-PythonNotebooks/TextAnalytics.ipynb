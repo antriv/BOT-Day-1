{
 "cells": [
  {
   "cell_type": "markdown",
   "metadata": {},
   "source": [
    "## Key phrase detection with Microsoft Cognitive Services Text Analytics API\n",
    "\n",
    "The API returns a list of strings denoting the key talking points in the input text. We employ techniques from Microsoft Office's sophisticated Natural Language Processing toolkit. Currently, the following languages are supported: English, German, Spanish and Japanese."
   ]
  },
  {
   "cell_type": "markdown",
   "metadata": {
    "collapsed": true
   },
   "source": [
    "#### For python 2 and 3 compatibility we have a few imports"
   ]
  },
  {
   "cell_type": "code",
   "execution_count": 1,
   "metadata": {
    "collapsed": false
   },
   "outputs": [],
   "source": [
    "import json\n",
    "\n",
    "# Import compatibility libraries (python 2/3 support)\n",
    "from __future__ import absolute_import\n",
    "from __future__ import division\n",
    "from __future__ import print_function\n",
    "from __future__ import unicode_literals\n",
    "\n",
    "# Python 3\n",
    "try:\n",
    "    from urllib.request import urlopen, Request\n",
    "    from urllib.parse import urlparse, urlencode\n",
    "    from http.client import HTTPSConnection\n",
    "# Python 2.7\n",
    "except ImportError:\n",
    "    from urlparse import urlparse\n",
    "    from urllib import urlencode\n",
    "    from urllib2 import Request, urlopen\n",
    "    from httplib import HTTPSConnection "
   ]
  },
  {
   "cell_type": "markdown",
   "metadata": {},
   "source": [
    "**Load our configuration file (just has subscription key as of now)**"
   ]
  },
  {
   "cell_type": "code",
   "execution_count": 2,
   "metadata": {
    "collapsed": true
   },
   "outputs": [],
   "source": [
    "response = urlopen('https://gist.githubusercontent.com/antriv/a6962d2c7580a0f7db4b7aabd6d768c5/raw/66d2f4219a566e2af995f6ce160e48851bf7811e/config.json')\n",
    "data = response.read().decode(\"utf-8\")\n",
    "CONFIG = json.loads(data)\n",
    "subscription_key = CONFIG['subscription_key_text_analytics']"
   ]
  },
  {
   "cell_type": "markdown",
   "metadata": {},
   "source": [
    "**Set up the header and parameter part of request**"
   ]
  },
  {
   "cell_type": "code",
   "execution_count": 3,
   "metadata": {
    "collapsed": true
   },
   "outputs": [],
   "source": [
    "# grab key from json in config\n",
    "subscription_key = CONFIG['subscription_key_text_analytics']\n",
    "\n",
    "# http headers needed for POST request\n",
    "# we keep these as dict\n",
    "headers = {\n",
    "    # Request headers\n",
    "    'Content-Type': 'application/json',\n",
    "    'Ocp-Apim-Subscription-Key': subscription_key,\n",
    "}\n",
    "\n",
    "# params will be added to POST in url request\n",
    "# right now it's empty because for this request we don't need any params\n",
    "params = urlencode({})"
   ]
  },
  {
   "cell_type": "markdown",
   "metadata": {},
   "source": [
    "**Here is our text for analysis in a Text Analytics-friendly format**\n",
    "* Note, you can have multipe chunks of text for separate analyses"
   ]
  },
  {
   "cell_type": "code",
   "execution_count": 4,
   "metadata": {
    "collapsed": true
   },
   "outputs": [],
   "source": [
    "# The request body - contains our corpus for analysis (load into json format)\n",
    "body = json.loads('''{\n",
    "  \"documents\": [\n",
    "    {\n",
    "      \"id\": \"1\",\n",
    "      \"text\": \"Our current expectation is that we will address one \\\n",
    "      or more of the primary challenges in managing humanitarian and \\\n",
    "      medical assistance to the refugees from the Middle East and \\\n",
    "      North Africa (MENA).​ There is a lack of data for NGOs on the \\\n",
    "      ground working with refugees in Europe & the middle east. \\\n",
    "      Technology could help document the crisis, help NGOs work together \\\n",
    "      and solicit further support. Technical & marketing solutions are \\\n",
    "      needed to evangelize and mobilize volunteers and donors. Procurement \\\n",
    "      for in-kind donations is sporadic and disorganized. Technology \\\n",
    "      solutions could be utilized to build efficiencies in sourcing of \\\n",
    "      humanitarian goods and resources for missions. Awareness for this \\\n",
    "      humanitarian crisis is low and there is a need for community dialog and empathy.\"\n",
    "    },\n",
    "    {\n",
    "      \"id\": \"2\",\n",
    "      \"text\": \"I'm always ready to buy more electronics\"\n",
    "    },\n",
    "        {\n",
    "      \"id\": \"3\",\n",
    "      \"text\": \"[I'm a happy camper or feel free to change what is written here]\"\n",
    "    }\n",
    "  ]\n",
    "}''')"
   ]
  },
  {
   "cell_type": "markdown",
   "metadata": {},
   "source": [
    "**Make the API request call**"
   ]
  },
  {
   "cell_type": "code",
   "execution_count": 5,
   "metadata": {
    "collapsed": false
   },
   "outputs": [
    {
     "name": "stdout",
     "output_type": "stream",
     "text": [
      "{\"documents\":[{\"keyPhrases\":[\"refugees\",\"humanitarian crisis\",\"sourcing of       humanitarian goods\",\"Middle East\",\"NGOs\",\"kind donations\",\"medical assistance\",\"need\",\"community dialog\",\"empathy\",\"current expectation\",\"volunteers\",\"donors\",\"North Africa\",\"marketing solutions\",\"efficiencies\",\"Technology       solutions\",\"MENA\",\"resources\",\"primary challenges\",\"Procurement\",\"lack of data\",\"Europe\",\"missions\",\"Awareness\",\"support\"],\"id\":\"1\"},{\"keyPhrases\":[\"electronics\"],\"id\":\"2\"},{\"keyPhrases\":[\"happy camper\"],\"id\":\"3\"}],\"errors\":[]}\n"
     ]
    }
   ],
   "source": [
    "try:\n",
    "    conn = HTTPSConnection('westus.api.cognitive.microsoft.com')\n",
    "    \n",
    "    # Post method request - note:  body of request is converted from json to string\n",
    "    conn.request(\"POST\", \"/text/analytics/v2.0/keyPhrases?%s\" % params, body = json.dumps(body), headers = headers)\n",
    "    response = conn.getresponse()\n",
    "    data = response.read()\n",
    "    print(data)\n",
    "    conn.close()\n",
    "except Exception as e:\n",
    "    print(\"[Error: {0}] \".format(e))"
   ]
  },
  {
   "cell_type": "code",
   "execution_count": null,
   "metadata": {
    "collapsed": true
   },
   "outputs": [],
   "source": []
  }
 ],
 "metadata": {
  "anaconda-cloud": {},
  "kernelspec": {
   "display_name": "Python 2",
   "language": "python",
   "name": "python2"
  },
  "language_info": {
   "codemirror_mode": {
    "name": "ipython",
    "version": 2
   },
   "file_extension": ".py",
   "mimetype": "text/x-python",
   "name": "python",
   "nbconvert_exporter": "python",
   "pygments_lexer": "ipython2",
   "version": "2.7.11"
  }
 },
 "nbformat": 4,
 "nbformat_minor": 0
}
